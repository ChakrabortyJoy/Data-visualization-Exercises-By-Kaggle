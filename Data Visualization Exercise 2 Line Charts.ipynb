{
 "cells": [
  {
   "cell_type": "markdown",
   "id": "87469c9a",
   "metadata": {
    "papermill": {
     "duration": 0.028426,
     "end_time": "2022-01-27T20:04:56.820260",
     "exception": false,
     "start_time": "2022-01-27T20:04:56.791834",
     "status": "completed"
    },
    "tags": []
   },
   "source": [
    "**This notebook is an exercise in the [Data Visualization](https://www.kaggle.com/learn/data-visualization) course.  You can reference the tutorial at [this link](https://www.kaggle.com/alexisbcook/line-charts).**\n",
    "\n",
    "---\n"
   ]
  },
  {
   "cell_type": "markdown",
   "id": "a02b9335",
   "metadata": {
    "papermill": {
     "duration": 0.013475,
     "end_time": "2022-01-27T20:04:56.849001",
     "exception": false,
     "start_time": "2022-01-27T20:04:56.835526",
     "status": "completed"
    },
    "tags": []
   },
   "source": [
    "In this exercise, you will use your new knowledge to propose a solution to a real-world scenario. To succeed, you will need to import data into Python, answer questions using the data, and generate **line charts** to understand patterns in the data.\n",
    "\n",
    "## Scenario\n",
    "\n",
    "You have recently been hired to manage the museums in the City of Los Angeles. Your first project focuses on the four museums pictured in the images below.\n",
    "\n",
    "![ex1_museums](https://i.imgur.com/pFYL8J1.png)\n",
    "\n",
    "You will leverage data from the Los Angeles [Data Portal](https://data.lacity.org/) that tracks monthly visitors to each museum.  \n",
    "\n",
    "![ex1_xlsx](https://i.imgur.com/mGWYlym.png)\n",
    "\n",
    "## Setup\n",
    "\n",
    "Run the next cell to import and configure the Python libraries that you need to complete the exercise."
   ]
  },
  {
   "cell_type": "code",
   "execution_count": 1,
   "id": "17ba4782",
   "metadata": {
    "execution": {
     "iopub.execute_input": "2022-01-27T20:04:56.881264Z",
     "iopub.status.busy": "2022-01-27T20:04:56.879741Z",
     "iopub.status.idle": "2022-01-27T20:04:57.813888Z",
     "shell.execute_reply": "2022-01-27T20:04:57.814501Z",
     "shell.execute_reply.started": "2022-01-27T19:38:36.718817Z"
    },
    "papermill": {
     "duration": 0.952409,
     "end_time": "2022-01-27T20:04:57.814841",
     "exception": false,
     "start_time": "2022-01-27T20:04:56.862432",
     "status": "completed"
    },
    "tags": []
   },
   "outputs": [
    {
     "name": "stdout",
     "output_type": "stream",
     "text": [
      "Setup Complete\n"
     ]
    }
   ],
   "source": [
    "import pandas as pd\n",
    "pd.plotting.register_matplotlib_converters()\n",
    "import matplotlib.pyplot as plt\n",
    "%matplotlib inline\n",
    "import seaborn as sns\n",
    "print(\"Setup Complete\")"
   ]
  },
  {
   "cell_type": "markdown",
   "id": "433954cb",
   "metadata": {
    "papermill": {
     "duration": 0.013733,
     "end_time": "2022-01-27T20:04:57.843631",
     "exception": false,
     "start_time": "2022-01-27T20:04:57.829898",
     "status": "completed"
    },
    "tags": []
   },
   "source": [
    "The questions below will give you feedback on your work. Run the following cell to set up the feedback system."
   ]
  },
  {
   "cell_type": "code",
   "execution_count": 2,
   "id": "8d7c5329",
   "metadata": {
    "execution": {
     "iopub.execute_input": "2022-01-27T20:04:57.875929Z",
     "iopub.status.busy": "2022-01-27T20:04:57.873167Z",
     "iopub.status.idle": "2022-01-27T20:04:57.920617Z",
     "shell.execute_reply": "2022-01-27T20:04:57.919974Z",
     "shell.execute_reply.started": "2022-01-27T19:38:42.259866Z"
    },
    "papermill": {
     "duration": 0.063516,
     "end_time": "2022-01-27T20:04:57.920772",
     "exception": false,
     "start_time": "2022-01-27T20:04:57.857256",
     "status": "completed"
    },
    "tags": []
   },
   "outputs": [
    {
     "name": "stdout",
     "output_type": "stream",
     "text": [
      "Setup Complete\n"
     ]
    }
   ],
   "source": [
    "# Set up code checking\n",
    "import os\n",
    "if not os.path.exists(\"../input/museum_visitors.csv\"):\n",
    "    os.symlink(\"../input/data-for-datavis/museum_visitors.csv\", \"../input/museum_visitors.csv\") \n",
    "from learntools.core import binder\n",
    "binder.bind(globals())\n",
    "from learntools.data_viz_to_coder.ex2 import *\n",
    "print(\"Setup Complete\")"
   ]
  },
  {
   "cell_type": "markdown",
   "id": "acafda21",
   "metadata": {
    "papermill": {
     "duration": 0.014005,
     "end_time": "2022-01-27T20:04:57.949358",
     "exception": false,
     "start_time": "2022-01-27T20:04:57.935353",
     "status": "completed"
    },
    "tags": []
   },
   "source": [
    "## Step 1: Load the data\n",
    "\n",
    "Your first assignment is to read the LA Museum Visitors data file into `museum_data`.  Note that:\n",
    "- The filepath to the dataset is stored as `museum_filepath`.  Please **do not** change the provided value of the filepath.\n",
    "- The name of the column to use as row labels is `\"Date\"`.  (This can be seen in cell A1 when the file is opened in Excel.)\n",
    "\n",
    "To help with this, you may find it useful to revisit some relevant code from the tutorial, which we have pasted below:\n",
    "\n",
    "```python\n",
    "# Path of the file to read\n",
    "spotify_filepath = \"../input/spotify.csv\"\n",
    "\n",
    "# Read the file into a variable spotify_data\n",
    "spotify_data = pd.read_csv(spotify_filepath, index_col=\"Date\", parse_dates=True)\n",
    "```\n",
    "\n",
    "The code you need to write now looks very similar!"
   ]
  },
  {
   "cell_type": "code",
   "execution_count": 3,
   "id": "0acda1b8",
   "metadata": {
    "execution": {
     "iopub.execute_input": "2022-01-27T20:04:57.981647Z",
     "iopub.status.busy": "2022-01-27T20:04:57.981096Z",
     "iopub.status.idle": "2022-01-27T20:04:57.993264Z",
     "shell.execute_reply": "2022-01-27T20:04:57.993731Z",
     "shell.execute_reply.started": "2022-01-27T19:40:10.817407Z"
    },
    "papermill": {
     "duration": 0.030506,
     "end_time": "2022-01-27T20:04:57.993866",
     "exception": false,
     "start_time": "2022-01-27T20:04:57.963360",
     "status": "completed"
    },
    "tags": []
   },
   "outputs": [
    {
     "data": {
      "application/javascript": [
       "parent.postMessage({\"jupyterEvent\": \"custom.exercise_interaction\", \"data\": {\"outcomeType\": 1, \"valueTowardsCompletion\": 0.3333333333333333, \"interactionType\": 1, \"questionType\": 1, \"questionId\": \"1_LoadMuseumData\", \"learnToolsVersion\": \"0.3.4\", \"failureMessage\": \"\", \"exceptionClass\": \"\", \"trace\": \"\"}}, \"*\")"
      ],
      "text/plain": [
       "<IPython.core.display.Javascript object>"
      ]
     },
     "metadata": {},
     "output_type": "display_data"
    },
    {
     "data": {
      "text/markdown": [
       "<span style=\"color:#33cc33\">Correct</span>"
      ],
      "text/plain": [
       "Correct"
      ]
     },
     "metadata": {},
     "output_type": "display_data"
    }
   ],
   "source": [
    "# Path of the file to read\n",
    "museum_filepath = \"../input/museum_visitors.csv\"\n",
    "\n",
    "# Fill in the line below to read the file into a variable museum_data\n",
    "museum_data = pd.read_csv(museum_filepath,index_col=\"Date\",parse_dates=True)\n",
    "\n",
    "# Run the line below with no changes to check that you've loaded the data correctly\n",
    "step_1.check()"
   ]
  },
  {
   "cell_type": "code",
   "execution_count": 4,
   "id": "fbe94b8d",
   "metadata": {
    "execution": {
     "iopub.execute_input": "2022-01-27T20:04:58.028490Z",
     "iopub.status.busy": "2022-01-27T20:04:58.027751Z",
     "iopub.status.idle": "2022-01-27T20:04:58.029719Z",
     "shell.execute_reply": "2022-01-27T20:04:58.030092Z"
    },
    "papermill": {
     "duration": 0.021104,
     "end_time": "2022-01-27T20:04:58.030213",
     "exception": false,
     "start_time": "2022-01-27T20:04:58.009109",
     "status": "completed"
    },
    "tags": []
   },
   "outputs": [],
   "source": [
    "# Uncomment the line below to receive a hint\n",
    "#step_1.hint()\n",
    "# Uncomment the line below to see the solution\n",
    "#step_1.solution()"
   ]
  },
  {
   "cell_type": "markdown",
   "id": "7bd88ecd",
   "metadata": {
    "papermill": {
     "duration": 0.014959,
     "end_time": "2022-01-27T20:04:58.060245",
     "exception": false,
     "start_time": "2022-01-27T20:04:58.045286",
     "status": "completed"
    },
    "tags": []
   },
   "source": [
    "## Step 2: Review the data\n",
    "\n",
    "Use a Python command to print the last 5 rows of the data."
   ]
  },
  {
   "cell_type": "code",
   "execution_count": 5,
   "id": "436451ba",
   "metadata": {
    "execution": {
     "iopub.execute_input": "2022-01-27T20:04:58.094909Z",
     "iopub.status.busy": "2022-01-27T20:04:58.094210Z",
     "iopub.status.idle": "2022-01-27T20:04:58.104242Z",
     "shell.execute_reply": "2022-01-27T20:04:58.103804Z",
     "shell.execute_reply.started": "2022-01-27T19:44:36.458736Z"
    },
    "papermill": {
     "duration": 0.029015,
     "end_time": "2022-01-27T20:04:58.104353",
     "exception": false,
     "start_time": "2022-01-27T20:04:58.075338",
     "status": "completed"
    },
    "tags": []
   },
   "outputs": [
    {
     "data": {
      "text/html": [
       "<div>\n",
       "<style scoped>\n",
       "    .dataframe tbody tr th:only-of-type {\n",
       "        vertical-align: middle;\n",
       "    }\n",
       "\n",
       "    .dataframe tbody tr th {\n",
       "        vertical-align: top;\n",
       "    }\n",
       "\n",
       "    .dataframe thead th {\n",
       "        text-align: right;\n",
       "    }\n",
       "</style>\n",
       "<table border=\"1\" class=\"dataframe\">\n",
       "  <thead>\n",
       "    <tr style=\"text-align: right;\">\n",
       "      <th></th>\n",
       "      <th>Avila Adobe</th>\n",
       "      <th>Firehouse Museum</th>\n",
       "      <th>Chinese American Museum</th>\n",
       "      <th>America Tropical Interpretive Center</th>\n",
       "    </tr>\n",
       "    <tr>\n",
       "      <th>Date</th>\n",
       "      <th></th>\n",
       "      <th></th>\n",
       "      <th></th>\n",
       "      <th></th>\n",
       "    </tr>\n",
       "  </thead>\n",
       "  <tbody>\n",
       "    <tr>\n",
       "      <th>2018-07-01</th>\n",
       "      <td>23136</td>\n",
       "      <td>4191</td>\n",
       "      <td>2620</td>\n",
       "      <td>4718</td>\n",
       "    </tr>\n",
       "    <tr>\n",
       "      <th>2018-08-01</th>\n",
       "      <td>20815</td>\n",
       "      <td>4866</td>\n",
       "      <td>2409</td>\n",
       "      <td>3891</td>\n",
       "    </tr>\n",
       "    <tr>\n",
       "      <th>2018-09-01</th>\n",
       "      <td>21020</td>\n",
       "      <td>4956</td>\n",
       "      <td>2146</td>\n",
       "      <td>3180</td>\n",
       "    </tr>\n",
       "    <tr>\n",
       "      <th>2018-10-01</th>\n",
       "      <td>19280</td>\n",
       "      <td>4622</td>\n",
       "      <td>2364</td>\n",
       "      <td>3775</td>\n",
       "    </tr>\n",
       "    <tr>\n",
       "      <th>2018-11-01</th>\n",
       "      <td>17163</td>\n",
       "      <td>4082</td>\n",
       "      <td>2385</td>\n",
       "      <td>4562</td>\n",
       "    </tr>\n",
       "  </tbody>\n",
       "</table>\n",
       "</div>"
      ],
      "text/plain": [
       "            Avila Adobe  Firehouse Museum  Chinese American Museum  \\\n",
       "Date                                                                 \n",
       "2018-07-01        23136              4191                     2620   \n",
       "2018-08-01        20815              4866                     2409   \n",
       "2018-09-01        21020              4956                     2146   \n",
       "2018-10-01        19280              4622                     2364   \n",
       "2018-11-01        17163              4082                     2385   \n",
       "\n",
       "            America Tropical Interpretive Center  \n",
       "Date                                              \n",
       "2018-07-01                                  4718  \n",
       "2018-08-01                                  3891  \n",
       "2018-09-01                                  3180  \n",
       "2018-10-01                                  3775  \n",
       "2018-11-01                                  4562  "
      ]
     },
     "execution_count": 5,
     "metadata": {},
     "output_type": "execute_result"
    }
   ],
   "source": [
    "# Print the last five rows of the data \n",
    "museum_data.tail()"
   ]
  },
  {
   "cell_type": "markdown",
   "id": "5f11d6d3",
   "metadata": {
    "papermill": {
     "duration": 0.015282,
     "end_time": "2022-01-27T20:04:58.135183",
     "exception": false,
     "start_time": "2022-01-27T20:04:58.119901",
     "status": "completed"
    },
    "tags": []
   },
   "source": [
    "The last row (for `2018-11-01`) tracks the number of visitors to each museum in November 2018, the next-to-last row (for `2018-10-01`) tracks the number of visitors to each museum in October 2018, _and so on_.\n",
    "\n",
    "Use the last 5 rows of the data to answer the questions below."
   ]
  },
  {
   "cell_type": "code",
   "execution_count": 6,
   "id": "2a755464",
   "metadata": {
    "execution": {
     "iopub.execute_input": "2022-01-27T20:04:58.171330Z",
     "iopub.status.busy": "2022-01-27T20:04:58.170484Z",
     "iopub.status.idle": "2022-01-27T20:04:58.175228Z",
     "shell.execute_reply": "2022-01-27T20:04:58.174784Z",
     "shell.execute_reply.started": "2022-01-27T19:45:28.125690Z"
    },
    "papermill": {
     "duration": 0.024612,
     "end_time": "2022-01-27T20:04:58.175330",
     "exception": false,
     "start_time": "2022-01-27T20:04:58.150718",
     "status": "completed"
    },
    "tags": []
   },
   "outputs": [
    {
     "data": {
      "application/javascript": [
       "parent.postMessage({\"jupyterEvent\": \"custom.exercise_interaction\", \"data\": {\"outcomeType\": 1, \"valueTowardsCompletion\": 0.3333333333333333, \"interactionType\": 1, \"questionType\": 1, \"questionId\": \"2_ReviewData\", \"learnToolsVersion\": \"0.3.4\", \"failureMessage\": \"\", \"exceptionClass\": \"\", \"trace\": \"\"}}, \"*\")"
      ],
      "text/plain": [
       "<IPython.core.display.Javascript object>"
      ]
     },
     "metadata": {},
     "output_type": "display_data"
    },
    {
     "data": {
      "text/markdown": [
       "<span style=\"color:#33cc33\">Correct</span>"
      ],
      "text/plain": [
       "Correct"
      ]
     },
     "metadata": {},
     "output_type": "display_data"
    }
   ],
   "source": [
    "# Fill in the line below: How many visitors did the Chinese American Museum \n",
    "# receive in July 2018?\n",
    "ca_museum_jul18 = 2620\n",
    "\n",
    "# Fill in the line below: In October 2018, how many more visitors did Avila \n",
    "# Adobe receive than the Firehouse Museum?\n",
    "avila_oct18 = 14658\n",
    "\n",
    "# Check your answers\n",
    "step_2.check()"
   ]
  },
  {
   "cell_type": "code",
   "execution_count": 7,
   "id": "2e282bcd",
   "metadata": {
    "execution": {
     "iopub.execute_input": "2022-01-27T20:04:58.211410Z",
     "iopub.status.busy": "2022-01-27T20:04:58.210760Z",
     "iopub.status.idle": "2022-01-27T20:04:58.213361Z",
     "shell.execute_reply": "2022-01-27T20:04:58.212941Z",
     "shell.execute_reply.started": "2022-01-27T19:45:35.463044Z"
    },
    "papermill": {
     "duration": 0.021898,
     "end_time": "2022-01-27T20:04:58.213467",
     "exception": false,
     "start_time": "2022-01-27T20:04:58.191569",
     "status": "completed"
    },
    "tags": []
   },
   "outputs": [],
   "source": [
    "# Lines below will give you a hint or solution code\n",
    "#step_2.hint()\n",
    "#step_2.solution()"
   ]
  },
  {
   "cell_type": "markdown",
   "id": "1c425a7f",
   "metadata": {
    "papermill": {
     "duration": 0.016491,
     "end_time": "2022-01-27T20:04:58.246190",
     "exception": false,
     "start_time": "2022-01-27T20:04:58.229699",
     "status": "completed"
    },
    "tags": []
   },
   "source": [
    "## Step 3: Convince the museum board \n",
    "\n",
    "The Firehouse Museum claims they ran an event in 2014 that brought an incredible number of visitors, and that they should get extra budget to run a similar event again.  The other museums think these types of events aren't that important, and budgets should be split purely based on recent visitors on an average day.  \n",
    "\n",
    "To show the museum board how the event compared to regular traffic at each museum, create a line chart that shows how the number of visitors to each museum evolved over time.  Your figure should have four lines (one for each museum).\n",
    "\n",
    "> **(Optional) Note**: If you have some prior experience with plotting figures in Python, you might be familiar with the `plt.show()` command.  If you decide to use this command, please place it **after** the line of code that checks your answer (in this case, place it after `step_3.check()` below) -- otherwise, the checking code will return an error!"
   ]
  },
  {
   "cell_type": "code",
   "execution_count": 8,
   "id": "76637d82",
   "metadata": {
    "execution": {
     "iopub.execute_input": "2022-01-27T20:04:58.303667Z",
     "iopub.status.busy": "2022-01-27T20:04:58.297344Z",
     "iopub.status.idle": "2022-01-27T20:04:58.821912Z",
     "shell.execute_reply": "2022-01-27T20:04:58.821165Z",
     "shell.execute_reply.started": "2022-01-27T19:54:58.245549Z"
    },
    "papermill": {
     "duration": 0.559588,
     "end_time": "2022-01-27T20:04:58.822094",
     "exception": false,
     "start_time": "2022-01-27T20:04:58.262506",
     "status": "completed"
    },
    "tags": []
   },
   "outputs": [
    {
     "data": {
      "application/javascript": [
       "parent.postMessage({\"jupyterEvent\": \"custom.exercise_interaction\", \"data\": {\"outcomeType\": 1, \"valueTowardsCompletion\": 0.3333333333333333, \"interactionType\": 1, \"questionType\": 2, \"questionId\": \"3_PlotAll\", \"learnToolsVersion\": \"0.3.4\", \"failureMessage\": \"\", \"exceptionClass\": \"\", \"trace\": \"\"}}, \"*\")"
      ],
      "text/plain": [
       "<IPython.core.display.Javascript object>"
      ]
     },
     "metadata": {},
     "output_type": "display_data"
    },
    {
     "data": {
      "text/markdown": [
       "<span style=\"color:#33cc33\">Correct</span>"
      ],
      "text/plain": [
       "Correct"
      ]
     },
     "metadata": {},
     "output_type": "display_data"
    },
    {
     "data": {
      "image/png": "[encoded data removed]",
      "text/plain": [
       "<Figure size 864x432 with 1 Axes>"
      ]
     },
     "metadata": {
      "needs_background": "light"
     },
     "output_type": "display_data"
    }
   ],
   "source": [
    "# Line chart showing the number of visitors to each museum over time\n",
    "plt.figure(figsize=(12,6))\n",
    "\n",
    "sns.lineplot(data=museum_data)\n",
    "\n",
    "plt.title(\"Montly visitors to LOS ANGELES CITY Meseums\")\n",
    "# Check your answer\n",
    "step_3.check()"
   ]
  },
  {
   "cell_type": "code",
   "execution_count": 9,
   "id": "688297ee",
   "metadata": {
    "execution": {
     "iopub.execute_input": "2022-01-27T20:04:58.892393Z",
     "iopub.status.busy": "2022-01-27T20:04:58.891504Z",
     "iopub.status.idle": "2022-01-27T20:04:58.893760Z",
     "shell.execute_reply": "2022-01-27T20:04:58.893109Z",
     "shell.execute_reply.started": "2022-01-27T19:55:01.468438Z"
    },
    "papermill": {
     "duration": 0.039154,
     "end_time": "2022-01-27T20:04:58.893910",
     "exception": false,
     "start_time": "2022-01-27T20:04:58.854756",
     "status": "completed"
    },
    "tags": []
   },
   "outputs": [],
   "source": [
    "# Lines below will give you a hint or solution code\n",
    "#step_3.hint()\n",
    "#step_3.solution_plot()"
   ]
  },
  {
   "cell_type": "markdown",
   "id": "d134b894",
   "metadata": {
    "papermill": {
     "duration": 0.031033,
     "end_time": "2022-01-27T20:04:58.955969",
     "exception": false,
     "start_time": "2022-01-27T20:04:58.924936",
     "status": "completed"
    },
    "tags": []
   },
   "source": [
    "## Step 4: Assess seasonality\n",
    "\n",
    "When meeting with the employees at Avila Adobe, you hear that one major pain point is that the number of museum visitors varies greatly with the seasons, with low seasons (when the employees are perfectly staffed and happy) and also high seasons (when the employees are understaffed and stressed).  You realize that if you can predict these high and low seasons, you can plan ahead to hire some additional seasonal employees to help out with the extra work.\n",
    "\n",
    "#### Part A\n",
    "Create a line chart that shows how the number of visitors to Avila Adobe has evolved over time.  (_If your code returns an error, the first thing that you should check is that you've spelled the name of the column correctly!  You must write the name of the column exactly as it appears in the dataset._)"
   ]
  },
  {
   "cell_type": "code",
   "execution_count": 10,
   "id": "f1d8528f",
   "metadata": {
    "execution": {
     "iopub.execute_input": "2022-01-27T20:04:59.038651Z",
     "iopub.status.busy": "2022-01-27T20:04:59.037781Z",
     "iopub.status.idle": "2022-01-27T20:04:59.297709Z",
     "shell.execute_reply": "2022-01-27T20:04:59.297252Z",
     "shell.execute_reply.started": "2022-01-27T20:03:45.853582Z"
    },
    "papermill": {
     "duration": 0.309147,
     "end_time": "2022-01-27T20:04:59.297861",
     "exception": false,
     "start_time": "2022-01-27T20:04:58.988714",
     "status": "completed"
    },
    "tags": []
   },
   "outputs": [
    {
     "name": "stdout",
     "output_type": "stream",
     "text": [
      "Thank you for creating a line chart!  To see how your code compares to the official solution, please use the code cell below.\n"
     ]
    },
    {
     "data": {
      "application/javascript": [
       "parent.postMessage({\"jupyterEvent\": \"custom.exercise_interaction\", \"data\": {\"outcomeType\": 1, \"valueTowardsCompletion\": 0.3333333333333333, \"interactionType\": 1, \"questionType\": 2, \"questionId\": \"4.1_PlotAvila\", \"learnToolsVersion\": \"0.3.4\", \"failureMessage\": \"\", \"exceptionClass\": \"\", \"trace\": \"\"}}, \"*\")"
      ],
      "text/plain": [
       "<IPython.core.display.Javascript object>"
      ]
     },
     "metadata": {},
     "output_type": "display_data"
    },
    {
     "data": {
      "text/markdown": [
       "<span style=\"color:#33cc33\">Correct</span>"
      ],
      "text/plain": [
       "Correct"
      ]
     },
     "metadata": {},
     "output_type": "display_data"
    },
    {
     "data": {
      "image/png": "[encoded data removed]",
      "text/plain": [
       "<Figure size 1008x432 with 1 Axes>"
      ]
     },
     "metadata": {
      "needs_background": "light"
     },
     "output_type": "display_data"
    }
   ],
   "source": [
    "# Line plot showing the number of visitors to Avila Adobe over time\n",
    "plt.figure(figsize=(14,6))\n",
    "plt.title(\"Monthly Visitors to Avila Adobe\")\n",
    "sns.lineplot(data=museum_data['Avila Adobe'])\n",
    "plt.xlabel(\"Date\")\n",
    "# Check your answer\n",
    "step_4.a.check()"
   ]
  },
  {
   "cell_type": "code",
   "execution_count": 11,
   "id": "637dc065",
   "metadata": {
    "execution": {
     "iopub.execute_input": "2022-01-27T20:04:59.346242Z",
     "iopub.status.busy": "2022-01-27T20:04:59.345716Z",
     "iopub.status.idle": "2022-01-27T20:04:59.348459Z",
     "shell.execute_reply": "2022-01-27T20:04:59.348055Z",
     "shell.execute_reply.started": "2022-01-27T20:03:55.280525Z"
    },
    "papermill": {
     "duration": 0.027926,
     "end_time": "2022-01-27T20:04:59.348591",
     "exception": false,
     "start_time": "2022-01-27T20:04:59.320665",
     "status": "completed"
    },
    "tags": []
   },
   "outputs": [],
   "source": [
    "# Lines below will give you a hint or solution code\n",
    "#step_4.a.hint()\n",
    "#step_4.a.solution_plot()"
   ]
  },
  {
   "cell_type": "markdown",
   "id": "94c4da0b",
   "metadata": {
    "papermill": {
     "duration": 0.022073,
     "end_time": "2022-01-27T20:04:59.392471",
     "exception": false,
     "start_time": "2022-01-27T20:04:59.370398",
     "status": "completed"
    },
    "tags": []
   },
   "source": [
    "#### Part B\n",
    "\n",
    "Does Avila Adobe get more visitors:\n",
    "- in September-February (in LA, the fall and winter months), or \n",
    "- in March-August (in LA, the spring and summer)?  \n",
    "\n",
    "Using this information, when should the museum staff additional seasonal employees?"
   ]
  },
  {
   "cell_type": "code",
   "execution_count": 12,
   "id": "14c22590",
   "metadata": {
    "execution": {
     "iopub.execute_input": "2022-01-27T20:04:59.439989Z",
     "iopub.status.busy": "2022-01-27T20:04:59.439110Z",
     "iopub.status.idle": "2022-01-27T20:04:59.441767Z",
     "shell.execute_reply": "2022-01-27T20:04:59.441214Z",
     "shell.execute_reply.started": "2022-01-27T20:04:20.654110Z"
    },
    "papermill": {
     "duration": 0.027715,
     "end_time": "2022-01-27T20:04:59.441875",
     "exception": false,
     "start_time": "2022-01-27T20:04:59.414160",
     "status": "completed"
    },
    "tags": []
   },
   "outputs": [],
   "source": [
    "#step_4.b.hint()"
   ]
  },
  {
   "cell_type": "code",
   "execution_count": 13,
   "id": "b44c6d59",
   "metadata": {
    "execution": {
     "iopub.execute_input": "2022-01-27T20:04:59.490319Z",
     "iopub.status.busy": "2022-01-27T20:04:59.489401Z",
     "iopub.status.idle": "2022-01-27T20:04:59.493738Z",
     "shell.execute_reply": "2022-01-27T20:04:59.494136Z",
     "shell.execute_reply.started": "2022-01-27T20:04:20.882597Z"
    },
    "papermill": {
     "duration": 0.030675,
     "end_time": "2022-01-27T20:04:59.494254",
     "exception": false,
     "start_time": "2022-01-27T20:04:59.463579",
     "status": "completed"
    },
    "tags": []
   },
   "outputs": [
    {
     "data": {
      "application/javascript": [
       "parent.postMessage({\"jupyterEvent\": \"custom.exercise_interaction\", \"data\": {\"interactionType\": 3, \"questionType\": 4, \"questionId\": \"4.2_ThinkAvila\", \"learnToolsVersion\": \"0.3.4\", \"valueTowardsCompletion\": 0.0, \"failureMessage\": \"\", \"exceptionClass\": \"\", \"trace\": \"\", \"outcomeType\": 4}}, \"*\")"
      ],
      "text/plain": [
       "<IPython.core.display.Javascript object>"
      ]
     },
     "metadata": {},
     "output_type": "display_data"
    },
    {
     "data": {
      "text/markdown": [
       "<span style=\"color:#33cc99\">Solution:</span> The line chart generally dips to relatively low values around the early part of each year (in December and January), and reaches its highest values in the middle of the year (especially around May and June).  Thus, Avila Adobe usually gets more visitors in March-August (or the spring and summer months).  With this in mind, Avila Adobe could definitely benefit from hiring more seasonal employees to help with the extra work in March-August (the spring and summer)!"
      ],
      "text/plain": [
       "Solution: The line chart generally dips to relatively low values around the early part of each year (in December and January), and reaches its highest values in the middle of the year (especially around May and June).  Thus, Avila Adobe usually gets more visitors in March-August (or the spring and summer months).  With this in mind, Avila Adobe could definitely benefit from hiring more seasonal employees to help with the extra work in March-August (the spring and summer)!"
      ]
     },
     "metadata": {},
     "output_type": "display_data"
    }
   ],
   "source": [
    "# Check your answer (Run this code cell to receive credit!)\n",
    "step_4.b.solution()"
   ]
  },
  {
   "cell_type": "markdown",
   "id": "bb1180b6",
   "metadata": {
    "papermill": {
     "duration": 0.022042,
     "end_time": "2022-01-27T20:04:59.538576",
     "exception": false,
     "start_time": "2022-01-27T20:04:59.516534",
     "status": "completed"
    },
    "tags": []
   },
   "source": [
    "# Keep going\n",
    "\n",
    "Move on to learn about **[bar charts and heatmaps](https://www.kaggle.com/alexisbcook/bar-charts-and-heatmaps)** with a new dataset!"
   ]
  },
  {
   "cell_type": "markdown",
   "id": "91ebf677",
   "metadata": {
    "papermill": {
     "duration": 0.021782,
     "end_time": "2022-01-27T20:04:59.582375",
     "exception": false,
     "start_time": "2022-01-27T20:04:59.560593",
     "status": "completed"
    },
    "tags": []
   },
   "source": [
    "---\n",
    "\n",
    "\n",
    "\n",
    "\n",
    "*Have questions or comments? Visit the [course discussion forum](https://www.kaggle.com/learn/data-visualization/discussion) to chat with other learners.*"
   ]
  }
 ],
 "metadata": {
  "kernelspec": {
   "display_name": "Python 3",
   "language": "python",
   "name": "python3"
  },
  "language_info": {
   "codemirror_mode": {
    "name": "ipython",
    "version": 3
   },
   "file_extension": ".py",
   "mimetype": "text/x-python",
   "name": "python",
   "nbconvert_exporter": "python",
   "pygments_lexer": "ipython3",
   "version": "3.7.12"
  },
  "papermill": {
   "default_parameters": {},
   "duration": 11.441299,
   "end_time": "2022-01-27T20:05:00.112528",
   "environment_variables": {},
   "exception": null,
   "input_path": "__notebook__.ipynb",
   "output_path": "__notebook__.ipynb",
   "parameters": {},
   "start_time": "2022-01-27T20:04:48.671229",
   "version": "2.3.3"
  }
 },
 "nbformat": 4,
 "nbformat_minor": 5
}
