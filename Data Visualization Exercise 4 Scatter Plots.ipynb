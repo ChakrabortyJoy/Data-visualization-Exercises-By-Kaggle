{
 "cells": [
  {
   "cell_type": "markdown",
   "id": "50f9753a",
   "metadata": {
    "papermill": {
     "duration": 0.031447,
     "end_time": "2022-01-28T07:53:01.060492",
     "exception": false,
     "start_time": "2022-01-28T07:53:01.029045",
     "status": "completed"
    },
    "tags": []
   },
   "source": [
    "**This notebook is an exercise in the [Data Visualization](https://www.kaggle.com/learn/data-visualization) course.  You can reference the tutorial at [this link](https://www.kaggle.com/alexisbcook/scatter-plots).**\n",
    "\n",
    "---\n"
   ]
  },
  {
   "cell_type": "markdown",
   "id": "ac094f9a",
   "metadata": {
    "papermill": {
     "duration": 0.023837,
     "end_time": "2022-01-28T07:53:01.111121",
     "exception": false,
     "start_time": "2022-01-28T07:53:01.087284",
     "status": "completed"
    },
    "tags": []
   },
   "source": [
    "In this exercise, you will use your new knowledge to propose a solution to a real-world scenario.  To succeed, you will need to import data into Python, answer questions using the data, and generate **scatter plots** to understand patterns in the data.\n",
    "\n",
    "## Scenario\n",
    "\n",
    "You work for a major candy producer, and your goal is to write a report that your company can use to guide the design of its next product.  Soon after starting your research, you stumble across this [very interesting dataset](https://fivethirtyeight.com/features/the-ultimate-halloween-candy-power-ranking/) containing results from a fun survey to crowdsource favorite candies.\n",
    "\n",
    "## Setup\n",
    "\n",
    "Run the next cell to import and configure the Python libraries that you need to complete the exercise."
   ]
  },
  {
   "cell_type": "code",
   "execution_count": 1,
   "id": "7203dba5",
   "metadata": {
    "execution": {
     "iopub.execute_input": "2022-01-28T07:53:01.181625Z",
     "iopub.status.busy": "2022-01-28T07:53:01.178356Z",
     "iopub.status.idle": "2022-01-28T07:53:02.138911Z",
     "shell.execute_reply": "2022-01-28T07:53:02.139513Z",
     "shell.execute_reply.started": "2022-01-28T07:46:16.443081Z"
    },
    "papermill": {
     "duration": 1.004901,
     "end_time": "2022-01-28T07:53:02.139761",
     "exception": false,
     "start_time": "2022-01-28T07:53:01.134860",
     "status": "completed"
    },
    "tags": []
   },
   "outputs": [
    {
     "name": "stdout",
     "output_type": "stream",
     "text": [
      "Setup Complete\n"
     ]
    }
   ],
   "source": [
    "import pandas as pd\n",
    "pd.plotting.register_matplotlib_converters()\n",
    "import matplotlib.pyplot as plt\n",
    "%matplotlib inline\n",
    "import seaborn as sns\n",
    "print(\"Setup Complete\")"
   ]
  },
  {
   "cell_type": "markdown",
   "id": "59c85769",
   "metadata": {
    "papermill": {
     "duration": 0.023664,
     "end_time": "2022-01-28T07:53:02.188182",
     "exception": false,
     "start_time": "2022-01-28T07:53:02.164518",
     "status": "completed"
    },
    "tags": []
   },
   "source": [
    "The questions below will give you feedback on your work. Run the following cell to set up our feedback system."
   ]
  },
  {
   "cell_type": "code",
   "execution_count": 2,
   "id": "a3aec16c",
   "metadata": {
    "execution": {
     "iopub.execute_input": "2022-01-28T07:53:02.241871Z",
     "iopub.status.busy": "2022-01-28T07:53:02.241303Z",
     "iopub.status.idle": "2022-01-28T07:53:02.286088Z",
     "shell.execute_reply": "2022-01-28T07:53:02.286566Z",
     "shell.execute_reply.started": "2022-01-28T07:46:17.325641Z"
    },
    "papermill": {
     "duration": 0.074641,
     "end_time": "2022-01-28T07:53:02.286714",
     "exception": false,
     "start_time": "2022-01-28T07:53:02.212073",
     "status": "completed"
    },
    "tags": []
   },
   "outputs": [
    {
     "name": "stdout",
     "output_type": "stream",
     "text": [
      "Setup Complete\n"
     ]
    }
   ],
   "source": [
    "# Set up code checking\n",
    "import os\n",
    "if not os.path.exists(\"../input/candy.csv\"):\n",
    "    os.symlink(\"../input/data-for-datavis/candy.csv\", \"../input/candy.csv\") \n",
    "from learntools.core import binder\n",
    "binder.bind(globals())\n",
    "from learntools.data_viz_to_coder.ex4 import *\n",
    "print(\"Setup Complete\")"
   ]
  },
  {
   "cell_type": "markdown",
   "id": "7817414d",
   "metadata": {
    "papermill": {
     "duration": 0.02552,
     "end_time": "2022-01-28T07:53:02.337011",
     "exception": false,
     "start_time": "2022-01-28T07:53:02.311491",
     "status": "completed"
    },
    "tags": []
   },
   "source": [
    "## Step 1: Load the Data\n",
    "\n",
    "Read the candy data file into `candy_data`.  Use the `\"id\"` column to label the rows."
   ]
  },
  {
   "cell_type": "code",
   "execution_count": 3,
   "id": "aa875f02",
   "metadata": {
    "execution": {
     "iopub.execute_input": "2022-01-28T07:53:02.389503Z",
     "iopub.status.busy": "2022-01-28T07:53:02.388995Z",
     "iopub.status.idle": "2022-01-28T07:53:02.400612Z",
     "shell.execute_reply": "2022-01-28T07:53:02.401011Z",
     "shell.execute_reply.started": "2022-01-28T07:46:17.377368Z"
    },
    "papermill": {
     "duration": 0.039669,
     "end_time": "2022-01-28T07:53:02.401129",
     "exception": false,
     "start_time": "2022-01-28T07:53:02.361460",
     "status": "completed"
    },
    "tags": []
   },
   "outputs": [
    {
     "data": {
      "application/javascript": [
       "parent.postMessage({\"jupyterEvent\": \"custom.exercise_interaction\", \"data\": {\"outcomeType\": 1, \"valueTowardsCompletion\": 0.3333333333333333, \"interactionType\": 1, \"questionType\": 1, \"questionId\": \"1_LoadData\", \"learnToolsVersion\": \"0.3.4\", \"failureMessage\": \"\", \"exceptionClass\": \"\", \"trace\": \"\"}}, \"*\")"
      ],
      "text/plain": [
       "<IPython.core.display.Javascript object>"
      ]
     },
     "metadata": {},
     "output_type": "display_data"
    },
    {
     "data": {
      "text/markdown": [
       "<span style=\"color:#33cc33\">Correct</span>"
      ],
      "text/plain": [
       "Correct"
      ]
     },
     "metadata": {},
     "output_type": "display_data"
    }
   ],
   "source": [
    "# Path of the file to read\n",
    "candy_filepath = \"../input/candy.csv\"\n",
    "\n",
    "# Fill in the line below to read the file into a variable candy_data\n",
    "candy_data = pd.read_csv(candy_filepath,index_col=\"id\")\n",
    "\n",
    "# Run the line below with no changes to check that you've loaded the data correctly\n",
    "step_1.check()"
   ]
  },
  {
   "cell_type": "code",
   "execution_count": 4,
   "id": "a0a304c1",
   "metadata": {
    "execution": {
     "iopub.execute_input": "2022-01-28T07:53:02.455722Z",
     "iopub.status.busy": "2022-01-28T07:53:02.454939Z",
     "iopub.status.idle": "2022-01-28T07:53:02.458630Z",
     "shell.execute_reply": "2022-01-28T07:53:02.458088Z",
     "shell.execute_reply.started": "2022-01-28T07:46:17.395383Z"
    },
    "papermill": {
     "duration": 0.031083,
     "end_time": "2022-01-28T07:53:02.458753",
     "exception": false,
     "start_time": "2022-01-28T07:53:02.427670",
     "status": "completed"
    },
    "tags": []
   },
   "outputs": [],
   "source": [
    "# Lines below will give you a hint or solution code\n",
    "#step_1.hint()\n",
    "#step_1.solution()"
   ]
  },
  {
   "cell_type": "markdown",
   "id": "dbac1fce",
   "metadata": {
    "papermill": {
     "duration": 0.024715,
     "end_time": "2022-01-28T07:53:02.508657",
     "exception": false,
     "start_time": "2022-01-28T07:53:02.483942",
     "status": "completed"
    },
    "tags": []
   },
   "source": [
    "## Step 2: Review the data\n",
    "\n",
    "Use a Python command to print the first five rows of the data."
   ]
  },
  {
   "cell_type": "code",
   "execution_count": 5,
   "id": "7dd16c26",
   "metadata": {
    "execution": {
     "iopub.execute_input": "2022-01-28T07:53:02.561966Z",
     "iopub.status.busy": "2022-01-28T07:53:02.561216Z",
     "iopub.status.idle": "2022-01-28T07:53:02.579083Z",
     "shell.execute_reply": "2022-01-28T07:53:02.578632Z",
     "shell.execute_reply.started": "2022-01-28T07:46:17.401434Z"
    },
    "papermill": {
     "duration": 0.045354,
     "end_time": "2022-01-28T07:53:02.579186",
     "exception": false,
     "start_time": "2022-01-28T07:53:02.533832",
     "status": "completed"
    },
    "tags": []
   },
   "outputs": [
    {
     "data": {
      "text/html": [
       "<div>\n",
       "<style scoped>\n",
       "    .dataframe tbody tr th:only-of-type {\n",
       "        vertical-align: middle;\n",
       "    }\n",
       "\n",
       "    .dataframe tbody tr th {\n",
       "        vertical-align: top;\n",
       "    }\n",
       "\n",
       "    .dataframe thead th {\n",
       "        text-align: right;\n",
       "    }\n",
       "</style>\n",
       "<table border=\"1\" class=\"dataframe\">\n",
       "  <thead>\n",
       "    <tr style=\"text-align: right;\">\n",
       "      <th></th>\n",
       "      <th>competitorname</th>\n",
       "      <th>chocolate</th>\n",
       "      <th>fruity</th>\n",
       "      <th>caramel</th>\n",
       "      <th>peanutyalmondy</th>\n",
       "      <th>nougat</th>\n",
       "      <th>crispedricewafer</th>\n",
       "      <th>hard</th>\n",
       "      <th>bar</th>\n",
       "      <th>pluribus</th>\n",
       "      <th>sugarpercent</th>\n",
       "      <th>pricepercent</th>\n",
       "      <th>winpercent</th>\n",
       "    </tr>\n",
       "    <tr>\n",
       "      <th>id</th>\n",
       "      <th></th>\n",
       "      <th></th>\n",
       "      <th></th>\n",
       "      <th></th>\n",
       "      <th></th>\n",
       "      <th></th>\n",
       "      <th></th>\n",
       "      <th></th>\n",
       "      <th></th>\n",
       "      <th></th>\n",
       "      <th></th>\n",
       "      <th></th>\n",
       "      <th></th>\n",
       "    </tr>\n",
       "  </thead>\n",
       "  <tbody>\n",
       "    <tr>\n",
       "      <th>0</th>\n",
       "      <td>100 Grand</td>\n",
       "      <td>Yes</td>\n",
       "      <td>No</td>\n",
       "      <td>Yes</td>\n",
       "      <td>No</td>\n",
       "      <td>No</td>\n",
       "      <td>Yes</td>\n",
       "      <td>No</td>\n",
       "      <td>Yes</td>\n",
       "      <td>No</td>\n",
       "      <td>0.732</td>\n",
       "      <td>0.860</td>\n",
       "      <td>66.971725</td>\n",
       "    </tr>\n",
       "    <tr>\n",
       "      <th>1</th>\n",
       "      <td>3 Musketeers</td>\n",
       "      <td>Yes</td>\n",
       "      <td>No</td>\n",
       "      <td>No</td>\n",
       "      <td>No</td>\n",
       "      <td>Yes</td>\n",
       "      <td>No</td>\n",
       "      <td>No</td>\n",
       "      <td>Yes</td>\n",
       "      <td>No</td>\n",
       "      <td>0.604</td>\n",
       "      <td>0.511</td>\n",
       "      <td>67.602936</td>\n",
       "    </tr>\n",
       "    <tr>\n",
       "      <th>2</th>\n",
       "      <td>Air Heads</td>\n",
       "      <td>No</td>\n",
       "      <td>Yes</td>\n",
       "      <td>No</td>\n",
       "      <td>No</td>\n",
       "      <td>No</td>\n",
       "      <td>No</td>\n",
       "      <td>No</td>\n",
       "      <td>No</td>\n",
       "      <td>No</td>\n",
       "      <td>0.906</td>\n",
       "      <td>0.511</td>\n",
       "      <td>52.341465</td>\n",
       "    </tr>\n",
       "    <tr>\n",
       "      <th>3</th>\n",
       "      <td>Almond Joy</td>\n",
       "      <td>Yes</td>\n",
       "      <td>No</td>\n",
       "      <td>No</td>\n",
       "      <td>Yes</td>\n",
       "      <td>No</td>\n",
       "      <td>No</td>\n",
       "      <td>No</td>\n",
       "      <td>Yes</td>\n",
       "      <td>No</td>\n",
       "      <td>0.465</td>\n",
       "      <td>0.767</td>\n",
       "      <td>50.347546</td>\n",
       "    </tr>\n",
       "    <tr>\n",
       "      <th>4</th>\n",
       "      <td>Baby Ruth</td>\n",
       "      <td>Yes</td>\n",
       "      <td>No</td>\n",
       "      <td>Yes</td>\n",
       "      <td>Yes</td>\n",
       "      <td>Yes</td>\n",
       "      <td>No</td>\n",
       "      <td>No</td>\n",
       "      <td>Yes</td>\n",
       "      <td>No</td>\n",
       "      <td>0.604</td>\n",
       "      <td>0.767</td>\n",
       "      <td>56.914547</td>\n",
       "    </tr>\n",
       "  </tbody>\n",
       "</table>\n",
       "</div>"
      ],
      "text/plain": [
       "   competitorname chocolate fruity caramel peanutyalmondy nougat  \\\n",
       "id                                                                 \n",
       "0       100 Grand       Yes     No     Yes             No     No   \n",
       "1    3 Musketeers       Yes     No      No             No    Yes   \n",
       "2       Air Heads        No    Yes      No             No     No   \n",
       "3      Almond Joy       Yes     No      No            Yes     No   \n",
       "4       Baby Ruth       Yes     No     Yes            Yes    Yes   \n",
       "\n",
       "   crispedricewafer hard  bar pluribus  sugarpercent  pricepercent  winpercent  \n",
       "id                                                                              \n",
       "0               Yes   No  Yes       No         0.732         0.860   66.971725  \n",
       "1                No   No  Yes       No         0.604         0.511   67.602936  \n",
       "2                No   No   No       No         0.906         0.511   52.341465  \n",
       "3                No   No  Yes       No         0.465         0.767   50.347546  \n",
       "4                No   No  Yes       No         0.604         0.767   56.914547  "
      ]
     },
     "execution_count": 5,
     "metadata": {},
     "output_type": "execute_result"
    }
   ],
   "source": [
    "# Print the first five rows of the data\n",
    "candy_data.head()"
   ]
  },
  {
   "cell_type": "markdown",
   "id": "f469aad6",
   "metadata": {
    "papermill": {
     "duration": 0.025416,
     "end_time": "2022-01-28T07:53:02.630015",
     "exception": false,
     "start_time": "2022-01-28T07:53:02.604599",
     "status": "completed"
    },
    "tags": []
   },
   "source": [
    "The dataset contains 83 rows, where each corresponds to a different candy bar.  There are 13 columns:\n",
    "- `'competitorname'` contains the name of the candy bar. \n",
    "- the next **9** columns (from `'chocolate'` to `'pluribus'`) describe the candy.  For instance, rows with chocolate candies have `\"Yes\"` in the `'chocolate'` column (and candies without chocolate have `\"No\"` in the same column).\n",
    "- `'sugarpercent'` provides some indication of the amount of sugar, where higher values signify higher sugar content.\n",
    "- `'pricepercent'` shows the price per unit, relative to the other candies in the dataset.\n",
    "- `'winpercent'` is calculated from the survey results; higher values indicate that the candy was more popular with survey respondents.\n",
    "\n",
    "Use the first five rows of the data to answer the questions below."
   ]
  },
  {
   "cell_type": "code",
   "execution_count": 6,
   "id": "dbd946f1",
   "metadata": {
    "execution": {
     "iopub.execute_input": "2022-01-28T07:53:02.685979Z",
     "iopub.status.busy": "2022-01-28T07:53:02.685174Z",
     "iopub.status.idle": "2022-01-28T07:53:02.690168Z",
     "shell.execute_reply": "2022-01-28T07:53:02.689756Z",
     "shell.execute_reply.started": "2022-01-28T07:46:17.424166Z"
    },
    "papermill": {
     "duration": 0.034647,
     "end_time": "2022-01-28T07:53:02.690275",
     "exception": false,
     "start_time": "2022-01-28T07:53:02.655628",
     "status": "completed"
    },
    "tags": []
   },
   "outputs": [
    {
     "data": {
      "application/javascript": [
       "parent.postMessage({\"jupyterEvent\": \"custom.exercise_interaction\", \"data\": {\"outcomeType\": 1, \"valueTowardsCompletion\": 0.3333333333333333, \"interactionType\": 1, \"questionType\": 1, \"questionId\": \"2_ReviewData\", \"learnToolsVersion\": \"0.3.4\", \"failureMessage\": \"\", \"exceptionClass\": \"\", \"trace\": \"\"}}, \"*\")"
      ],
      "text/plain": [
       "<IPython.core.display.Javascript object>"
      ]
     },
     "metadata": {},
     "output_type": "display_data"
    },
    {
     "data": {
      "text/markdown": [
       "<span style=\"color:#33cc33\">Correct</span>"
      ],
      "text/plain": [
       "Correct"
      ]
     },
     "metadata": {},
     "output_type": "display_data"
    }
   ],
   "source": [
    "# Fill in the line below: Which candy was more popular with survey respondents:\n",
    "# '3 Musketeers' or 'Almond Joy'?  (Please enclose your answer in single quotes.)\n",
    "more_popular = '3 Musketeers'\n",
    "\n",
    "# Fill in the line below: Which candy has higher sugar content: 'Air Heads'\n",
    "# or 'Baby Ruth'? (Please enclose your answer in single quotes.)\n",
    "more_sugar = 'Air Heads'\n",
    "\n",
    "# Check your answers\n",
    "step_2.check()"
   ]
  },
  {
   "cell_type": "code",
   "execution_count": 7,
   "id": "5912ff8d",
   "metadata": {
    "execution": {
     "iopub.execute_input": "2022-01-28T07:53:02.769154Z",
     "iopub.status.busy": "2022-01-28T07:53:02.768310Z",
     "iopub.status.idle": "2022-01-28T07:53:02.771047Z",
     "shell.execute_reply": "2022-01-28T07:53:02.769874Z",
     "shell.execute_reply.started": "2022-01-28T07:46:17.433412Z"
    },
    "papermill": {
     "duration": 0.053554,
     "end_time": "2022-01-28T07:53:02.771310",
     "exception": false,
     "start_time": "2022-01-28T07:53:02.717756",
     "status": "completed"
    },
    "tags": []
   },
   "outputs": [],
   "source": [
    "# Lines below will give you a hint or solution code\n",
    "#step_2.hint()\n",
    "#step_2.solution()"
   ]
  },
  {
   "cell_type": "markdown",
   "id": "982bcfa3",
   "metadata": {
    "papermill": {
     "duration": 0.047292,
     "end_time": "2022-01-28T07:53:02.871285",
     "exception": false,
     "start_time": "2022-01-28T07:53:02.823993",
     "status": "completed"
    },
    "tags": []
   },
   "source": [
    "## Step 3: The role of sugar\n",
    "\n",
    "Do people tend to prefer candies with higher sugar content?  \n",
    "\n",
    "#### Part A\n",
    "\n",
    "Create a scatter plot that shows the relationship between `'sugarpercent'` (on the horizontal x-axis) and `'winpercent'` (on the vertical y-axis).  _Don't add a regression line just yet -- you'll do that in the next step!_"
   ]
  },
  {
   "cell_type": "code",
   "execution_count": 8,
   "id": "aab9e7f7",
   "metadata": {
    "execution": {
     "iopub.execute_input": "2022-01-28T07:53:02.972076Z",
     "iopub.status.busy": "2022-01-28T07:53:02.971259Z",
     "iopub.status.idle": "2022-01-28T07:53:03.271662Z",
     "shell.execute_reply": "2022-01-28T07:53:03.272715Z",
     "shell.execute_reply.started": "2022-01-28T07:46:17.438858Z"
    },
    "papermill": {
     "duration": 0.357936,
     "end_time": "2022-01-28T07:53:03.272926",
     "exception": false,
     "start_time": "2022-01-28T07:53:02.914990",
     "status": "completed"
    },
    "tags": []
   },
   "outputs": [
    {
     "data": {
      "application/javascript": [
       "parent.postMessage({\"jupyterEvent\": \"custom.exercise_interaction\", \"data\": {\"outcomeType\": 1, \"valueTowardsCompletion\": 0.3333333333333333, \"interactionType\": 1, \"questionType\": 2, \"questionId\": \"3.1_PlotBlueScatter\", \"learnToolsVersion\": \"0.3.4\", \"failureMessage\": \"\", \"exceptionClass\": \"\", \"trace\": \"\"}}, \"*\")"
      ],
      "text/plain": [
       "<IPython.core.display.Javascript object>"
      ]
     },
     "metadata": {},
     "output_type": "display_data"
    },
    {
     "data": {
      "text/markdown": [
       "<span style=\"color:#33cc33\">Correct</span>"
      ],
      "text/plain": [
       "Correct"
      ]
     },
     "metadata": {},
     "output_type": "display_data"
    },
    {
     "data": {
      "image/png": "[encoded data removed]",
      "text/plain": [
       "<Figure size 432x288 with 1 Axes>"
      ]
     },
     "metadata": {
      "needs_background": "light"
     },
     "output_type": "display_data"
    }
   ],
   "source": [
    "# Scatter plot showing the relationship between 'sugarpercent' and 'winpercent'\n",
    "sns.scatterplot(x=candy_data['sugarpercent'],y=candy_data['winpercent'])\n",
    "\n",
    "# Check your answer\n",
    "step_3.a.check()"
   ]
  },
  {
   "cell_type": "code",
   "execution_count": 9,
   "id": "d937ab13",
   "metadata": {
    "execution": {
     "iopub.execute_input": "2022-01-28T07:53:03.360698Z",
     "iopub.status.busy": "2022-01-28T07:53:03.359986Z",
     "iopub.status.idle": "2022-01-28T07:53:03.362133Z",
     "shell.execute_reply": "2022-01-28T07:53:03.362543Z",
     "shell.execute_reply.started": "2022-01-28T07:46:17.674543Z"
    },
    "papermill": {
     "duration": 0.039545,
     "end_time": "2022-01-28T07:53:03.362679",
     "exception": false,
     "start_time": "2022-01-28T07:53:03.323134",
     "status": "completed"
    },
    "tags": []
   },
   "outputs": [],
   "source": [
    "# Lines below will give you a hint or solution code\n",
    "#step_3.a.hint()\n",
    "#step_3.a.solution_plot()"
   ]
  },
  {
   "cell_type": "markdown",
   "id": "a975e55f",
   "metadata": {
    "papermill": {
     "duration": 0.028691,
     "end_time": "2022-01-28T07:53:03.419359",
     "exception": false,
     "start_time": "2022-01-28T07:53:03.390668",
     "status": "completed"
    },
    "tags": []
   },
   "source": [
    "#### Part B\n",
    "\n",
    "Does the scatter plot show a **strong** correlation between the two variables?  If so, are candies with more sugar relatively more or less popular with the survey respondents?"
   ]
  },
  {
   "cell_type": "code",
   "execution_count": 10,
   "id": "90049051",
   "metadata": {
    "execution": {
     "iopub.execute_input": "2022-01-28T07:53:03.479667Z",
     "iopub.status.busy": "2022-01-28T07:53:03.478870Z",
     "iopub.status.idle": "2022-01-28T07:53:03.480781Z",
     "shell.execute_reply": "2022-01-28T07:53:03.481206Z",
     "shell.execute_reply.started": "2022-01-28T07:46:17.680907Z"
    },
    "papermill": {
     "duration": 0.033697,
     "end_time": "2022-01-28T07:53:03.481323",
     "exception": false,
     "start_time": "2022-01-28T07:53:03.447626",
     "status": "completed"
    },
    "tags": []
   },
   "outputs": [],
   "source": [
    "#step_3.b.hint()"
   ]
  },
  {
   "cell_type": "code",
   "execution_count": 11,
   "id": "84689985",
   "metadata": {
    "execution": {
     "iopub.execute_input": "2022-01-28T07:53:03.542015Z",
     "iopub.status.busy": "2022-01-28T07:53:03.541219Z",
     "iopub.status.idle": "2022-01-28T07:53:03.545302Z",
     "shell.execute_reply": "2022-01-28T07:53:03.545773Z",
     "shell.execute_reply.started": "2022-01-28T07:46:17.693659Z"
    },
    "papermill": {
     "duration": 0.03673,
     "end_time": "2022-01-28T07:53:03.545893",
     "exception": false,
     "start_time": "2022-01-28T07:53:03.509163",
     "status": "completed"
    },
    "tags": []
   },
   "outputs": [
    {
     "data": {
      "application/javascript": [
       "parent.postMessage({\"jupyterEvent\": \"custom.exercise_interaction\", \"data\": {\"interactionType\": 3, \"questionType\": 4, \"questionId\": \"3.2_ThinkBlueScatter\", \"learnToolsVersion\": \"0.3.4\", \"valueTowardsCompletion\": 0.0, \"failureMessage\": \"\", \"exceptionClass\": \"\", \"trace\": \"\", \"outcomeType\": 4}}, \"*\")"
      ],
      "text/plain": [
       "<IPython.core.display.Javascript object>"
      ]
     },
     "metadata": {},
     "output_type": "display_data"
    },
    {
     "data": {
      "text/markdown": [
       "<span style=\"color:#33cc99\">Solution:</span> The scatter plot does not show a strong correlation between the two variables. Since there is no clear relationship between the two variables, this tells us that sugar content does not play a strong role in candy popularity."
      ],
      "text/plain": [
       "Solution: The scatter plot does not show a strong correlation between the two variables. Since there is no clear relationship between the two variables, this tells us that sugar content does not play a strong role in candy popularity."
      ]
     },
     "metadata": {},
     "output_type": "display_data"
    }
   ],
   "source": [
    "# Check your answer (Run this code cell to receive credit!)\n",
    "step_3.b.solution()"
   ]
  },
  {
   "cell_type": "markdown",
   "id": "56767c61",
   "metadata": {
    "papermill": {
     "duration": 0.028742,
     "end_time": "2022-01-28T07:53:03.603223",
     "exception": false,
     "start_time": "2022-01-28T07:53:03.574481",
     "status": "completed"
    },
    "tags": []
   },
   "source": [
    "## Step 4: Take a closer look\n",
    "\n",
    "#### Part A\n",
    "\n",
    "Create the same scatter plot you created in **Step 3**, but now with a regression line!"
   ]
  },
  {
   "cell_type": "code",
   "execution_count": 12,
   "id": "e626b140",
   "metadata": {
    "execution": {
     "iopub.execute_input": "2022-01-28T07:53:03.685928Z",
     "iopub.status.busy": "2022-01-28T07:53:03.662134Z",
     "iopub.status.idle": "2022-01-28T07:53:03.970571Z",
     "shell.execute_reply": "2022-01-28T07:53:03.969839Z",
     "shell.execute_reply.started": "2022-01-28T07:46:17.705725Z"
    },
    "papermill": {
     "duration": 0.338954,
     "end_time": "2022-01-28T07:53:03.970688",
     "exception": false,
     "start_time": "2022-01-28T07:53:03.631734",
     "status": "completed"
    },
    "tags": []
   },
   "outputs": [
    {
     "data": {
      "application/javascript": [
       "parent.postMessage({\"jupyterEvent\": \"custom.exercise_interaction\", \"data\": {\"outcomeType\": 1, \"valueTowardsCompletion\": 0.3333333333333333, \"interactionType\": 1, \"questionType\": 2, \"questionId\": \"4.1_PlotBlueReg\", \"learnToolsVersion\": \"0.3.4\", \"failureMessage\": \"\", \"exceptionClass\": \"\", \"trace\": \"\"}}, \"*\")"
      ],
      "text/plain": [
       "<IPython.core.display.Javascript object>"
      ]
     },
     "metadata": {},
     "output_type": "display_data"
    },
    {
     "data": {
      "text/markdown": [
       "<span style=\"color:#33cc33\">Correct</span>"
      ],
      "text/plain": [
       "Correct"
      ]
     },
     "metadata": {},
     "output_type": "display_data"
    },
    {
     "data": {
      "image/png": "[encoded data removed]",
      "text/plain": [
       "<Figure size 432x288 with 1 Axes>"
      ]
     },
     "metadata": {
      "needs_background": "light"
     },
     "output_type": "display_data"
    }
   ],
   "source": [
    "# Scatter plot w/ regression line showing the relationship between 'sugarpercent' and 'winpercent'\n",
    "sns.regplot(x=candy_data['sugarpercent'],y=candy_data['winpercent'])\n",
    "\n",
    "# Check your answer\n",
    "step_4.a.check()"
   ]
  },
  {
   "cell_type": "code",
   "execution_count": 13,
   "id": "add3821d",
   "metadata": {
    "execution": {
     "iopub.execute_input": "2022-01-28T07:53:04.035448Z",
     "iopub.status.busy": "2022-01-28T07:53:04.034682Z",
     "iopub.status.idle": "2022-01-28T07:53:04.037145Z",
     "shell.execute_reply": "2022-01-28T07:53:04.036622Z",
     "shell.execute_reply.started": "2022-01-28T07:46:18.001340Z"
    },
    "papermill": {
     "duration": 0.035821,
     "end_time": "2022-01-28T07:53:04.037247",
     "exception": false,
     "start_time": "2022-01-28T07:53:04.001426",
     "status": "completed"
    },
    "tags": []
   },
   "outputs": [],
   "source": [
    "# Lines below will give you a hint or solution code\n",
    "#step_4.a.hint()\n",
    "#step_4.a.solution_plot()"
   ]
  },
  {
   "cell_type": "markdown",
   "id": "a6f4447a",
   "metadata": {
    "papermill": {
     "duration": 0.030071,
     "end_time": "2022-01-28T07:53:04.098665",
     "exception": false,
     "start_time": "2022-01-28T07:53:04.068594",
     "status": "completed"
    },
    "tags": []
   },
   "source": [
    "#### Part B\n",
    "\n",
    "According to the plot above, is there a **slight** correlation between `'winpercent'` and `'sugarpercent'`?  What does this tell you about the candy that people tend to prefer?"
   ]
  },
  {
   "cell_type": "code",
   "execution_count": 14,
   "id": "e63d500d",
   "metadata": {
    "execution": {
     "iopub.execute_input": "2022-01-28T07:53:04.163250Z",
     "iopub.status.busy": "2022-01-28T07:53:04.162417Z",
     "iopub.status.idle": "2022-01-28T07:53:04.164377Z",
     "shell.execute_reply": "2022-01-28T07:53:04.164764Z",
     "shell.execute_reply.started": "2022-01-28T07:46:18.006466Z"
    },
    "papermill": {
     "duration": 0.036196,
     "end_time": "2022-01-28T07:53:04.164890",
     "exception": false,
     "start_time": "2022-01-28T07:53:04.128694",
     "status": "completed"
    },
    "tags": []
   },
   "outputs": [],
   "source": [
    "#step_4.b.hint()"
   ]
  },
  {
   "cell_type": "code",
   "execution_count": 15,
   "id": "0b6663bb",
   "metadata": {
    "execution": {
     "iopub.execute_input": "2022-01-28T07:53:04.229784Z",
     "iopub.status.busy": "2022-01-28T07:53:04.228990Z",
     "iopub.status.idle": "2022-01-28T07:53:04.234278Z",
     "shell.execute_reply": "2022-01-28T07:53:04.233868Z",
     "shell.execute_reply.started": "2022-01-28T07:46:18.019373Z"
    },
    "papermill": {
     "duration": 0.039537,
     "end_time": "2022-01-28T07:53:04.234378",
     "exception": false,
     "start_time": "2022-01-28T07:53:04.194841",
     "status": "completed"
    },
    "tags": []
   },
   "outputs": [
    {
     "data": {
      "application/javascript": [
       "parent.postMessage({\"jupyterEvent\": \"custom.exercise_interaction\", \"data\": {\"interactionType\": 3, \"questionType\": 4, \"questionId\": \"4.2_ThinkBlueReg\", \"learnToolsVersion\": \"0.3.4\", \"valueTowardsCompletion\": 0.0, \"failureMessage\": \"\", \"exceptionClass\": \"\", \"trace\": \"\", \"outcomeType\": 4}}, \"*\")"
      ],
      "text/plain": [
       "<IPython.core.display.Javascript object>"
      ]
     },
     "metadata": {},
     "output_type": "display_data"
    },
    {
     "data": {
      "text/markdown": [
       "<span style=\"color:#33cc99\">Solution:</span> Since the regression line has a slightly positive slope, this tells us that there is a slightly positive correlation between `'winpercent'` and `'sugarpercent'`. Thus, people have a slight preference for candies containing relatively more sugar."
      ],
      "text/plain": [
       "Solution: Since the regression line has a slightly positive slope, this tells us that there is a slightly positive correlation between `'winpercent'` and `'sugarpercent'`. Thus, people have a slight preference for candies containing relatively more sugar."
      ]
     },
     "metadata": {},
     "output_type": "display_data"
    }
   ],
   "source": [
    "# Check your answer (Run this code cell to receive credit!)\n",
    "step_4.b.solution()"
   ]
  },
  {
   "cell_type": "markdown",
   "id": "acc582ca",
   "metadata": {
    "papermill": {
     "duration": 0.030544,
     "end_time": "2022-01-28T07:53:04.297024",
     "exception": false,
     "start_time": "2022-01-28T07:53:04.266480",
     "status": "completed"
    },
    "tags": []
   },
   "source": [
    "## Step 5: Chocolate!\n",
    "\n",
    "In the code cell below, create a scatter plot to show the relationship between `'pricepercent'` (on the horizontal x-axis) and `'winpercent'` (on the vertical y-axis). Use the `'chocolate'` column to color-code the points.  _Don't add any regression lines just yet -- you'll do that in the next step!_"
   ]
  },
  {
   "cell_type": "code",
   "execution_count": 16,
   "id": "ebd03262",
   "metadata": {
    "execution": {
     "iopub.execute_input": "2022-01-28T07:53:04.369152Z",
     "iopub.status.busy": "2022-01-28T07:53:04.368348Z",
     "iopub.status.idle": "2022-01-28T07:53:04.624027Z",
     "shell.execute_reply": "2022-01-28T07:53:04.624452Z",
     "shell.execute_reply.started": "2022-01-28T07:46:18.031915Z"
    },
    "papermill": {
     "duration": 0.296248,
     "end_time": "2022-01-28T07:53:04.624666",
     "exception": false,
     "start_time": "2022-01-28T07:53:04.328418",
     "status": "completed"
    },
    "tags": []
   },
   "outputs": [
    {
     "data": {
      "application/javascript": [
       "parent.postMessage({\"jupyterEvent\": \"custom.exercise_interaction\", \"data\": {\"outcomeType\": 1, \"valueTowardsCompletion\": 0.3333333333333333, \"interactionType\": 1, \"questionType\": 2, \"questionId\": \"5_ColorScatter\", \"learnToolsVersion\": \"0.3.4\", \"failureMessage\": \"\", \"exceptionClass\": \"\", \"trace\": \"\"}}, \"*\")"
      ],
      "text/plain": [
       "<IPython.core.display.Javascript object>"
      ]
     },
     "metadata": {},
     "output_type": "display_data"
    },
    {
     "data": {
      "text/markdown": [
       "<span style=\"color:#33cc33\">Correct</span>"
      ],
      "text/plain": [
       "Correct"
      ]
     },
     "metadata": {},
     "output_type": "display_data"
    },
    {
     "data": {
      "image/png": "[encoded data removed]",
      "text/plain": [
       "<Figure size 432x288 with 1 Axes>"
      ]
     },
     "metadata": {
      "needs_background": "light"
     },
     "output_type": "display_data"
    }
   ],
   "source": [
    "# Scatter plot showing the relationship between 'pricepercent', 'winpercent', and 'chocolate'\n",
    "sns.scatterplot(x=candy_data['pricepercent'],y=candy_data['winpercent'],hue=candy_data['chocolate'])\n",
    "\n",
    "# Check your answer\n",
    "step_5.check()"
   ]
  },
  {
   "cell_type": "code",
   "execution_count": 17,
   "id": "9f95b904",
   "metadata": {
    "execution": {
     "iopub.execute_input": "2022-01-28T07:53:04.695147Z",
     "iopub.status.busy": "2022-01-28T07:53:04.693666Z",
     "iopub.status.idle": "2022-01-28T07:53:04.695820Z",
     "shell.execute_reply": "2022-01-28T07:53:04.696209Z",
     "shell.execute_reply.started": "2022-01-28T07:46:18.309071Z"
    },
    "papermill": {
     "duration": 0.038836,
     "end_time": "2022-01-28T07:53:04.696328",
     "exception": false,
     "start_time": "2022-01-28T07:53:04.657492",
     "status": "completed"
    },
    "tags": []
   },
   "outputs": [],
   "source": [
    "# Lines below will give you a hint or solution code\n",
    "#step_5.hint()\n",
    "#step_5.solution_plot()"
   ]
  },
  {
   "cell_type": "markdown",
   "id": "7535ecae",
   "metadata": {
    "papermill": {
     "duration": 0.032675,
     "end_time": "2022-01-28T07:53:04.761805",
     "exception": false,
     "start_time": "2022-01-28T07:53:04.729130",
     "status": "completed"
    },
    "tags": []
   },
   "source": [
    "Can you see any interesting patterns in the scatter plot?  We'll investigate this plot further  by adding regression lines in the next step!\n",
    "\n",
    "## Step 6: Investigate chocolate\n",
    "\n",
    "#### Part A\n",
    "\n",
    "Create the same scatter plot you created in **Step 5**, but now with two regression lines, corresponding to (1) chocolate candies and (2) candies without chocolate."
   ]
  },
  {
   "cell_type": "code",
   "execution_count": 18,
   "id": "94c2544b",
   "metadata": {
    "execution": {
     "iopub.execute_input": "2022-01-28T07:53:04.858030Z",
     "iopub.status.busy": "2022-01-28T07:53:04.855848Z",
     "iopub.status.idle": "2022-01-28T07:53:05.689366Z",
     "shell.execute_reply": "2022-01-28T07:53:05.690045Z",
     "shell.execute_reply.started": "2022-01-28T07:46:18.315383Z"
    },
    "papermill": {
     "duration": 0.89584,
     "end_time": "2022-01-28T07:53:05.690284",
     "exception": false,
     "start_time": "2022-01-28T07:53:04.794444",
     "status": "completed"
    },
    "tags": []
   },
   "outputs": [
    {
     "data": {
      "application/javascript": [
       "parent.postMessage({\"jupyterEvent\": \"custom.exercise_interaction\", \"data\": {\"outcomeType\": 1, \"valueTowardsCompletion\": 0.3333333333333333, \"interactionType\": 1, \"questionType\": 2, \"questionId\": \"6.1_PlotColorReg\", \"learnToolsVersion\": \"0.3.4\", \"failureMessage\": \"\", \"exceptionClass\": \"\", \"trace\": \"\"}}, \"*\")"
      ],
      "text/plain": [
       "<IPython.core.display.Javascript object>"
      ]
     },
     "metadata": {},
     "output_type": "display_data"
    },
    {
     "data": {
      "text/markdown": [
       "<span style=\"color:#33cc33\">Correct</span>"
      ],
      "text/plain": [
       "Correct"
      ]
     },
     "metadata": {},
     "output_type": "display_data"
    },
    {
     "data": {
      "image/png": "[encoded data removed]",
      "text/plain": [
       "<Figure size 416.375x360 with 1 Axes>"
      ]
     },
     "metadata": {
      "needs_background": "light"
     },
     "output_type": "display_data"
    }
   ],
   "source": [
    "# Color-coded scatter plot w/ regression lines\n",
    "sns.lmplot(x='pricepercent',y='winpercent',hue='chocolate',data=candy_data)\n",
    "\n",
    "# Check your answer\n",
    "step_6.a.check()"
   ]
  },
  {
   "cell_type": "code",
   "execution_count": 19,
   "id": "e4a70833",
   "metadata": {
    "execution": {
     "iopub.execute_input": "2022-01-28T07:53:05.818700Z",
     "iopub.status.busy": "2022-01-28T07:53:05.816553Z",
     "iopub.status.idle": "2022-01-28T07:53:05.819656Z",
     "shell.execute_reply": "2022-01-28T07:53:05.820305Z",
     "shell.execute_reply.started": "2022-01-28T07:46:18.882908Z"
    },
    "papermill": {
     "duration": 0.070719,
     "end_time": "2022-01-28T07:53:05.820502",
     "exception": false,
     "start_time": "2022-01-28T07:53:05.749783",
     "status": "completed"
    },
    "tags": []
   },
   "outputs": [],
   "source": [
    "# Lines below will give you a hint or solution code\n",
    "#step_6.a.hint()\n",
    "#step_6.a.solution_plot()"
   ]
  },
  {
   "cell_type": "markdown",
   "id": "18bbfe21",
   "metadata": {
    "papermill": {
     "duration": 0.067074,
     "end_time": "2022-01-28T07:53:05.955367",
     "exception": false,
     "start_time": "2022-01-28T07:53:05.888293",
     "status": "completed"
    },
    "tags": []
   },
   "source": [
    "#### Part B\n",
    "\n",
    "Using the regression lines, what conclusions can you draw about the effects of chocolate and price on candy popularity?"
   ]
  },
  {
   "cell_type": "code",
   "execution_count": 20,
   "id": "a64825f3",
   "metadata": {
    "execution": {
     "iopub.execute_input": "2022-01-28T07:53:06.105472Z",
     "iopub.status.busy": "2022-01-28T07:53:06.104112Z",
     "iopub.status.idle": "2022-01-28T07:53:06.107117Z",
     "shell.execute_reply": "2022-01-28T07:53:06.106289Z",
     "shell.execute_reply.started": "2022-01-28T07:46:18.888510Z"
    },
    "papermill": {
     "duration": 0.083718,
     "end_time": "2022-01-28T07:53:06.107307",
     "exception": false,
     "start_time": "2022-01-28T07:53:06.023589",
     "status": "completed"
    },
    "tags": []
   },
   "outputs": [],
   "source": [
    "#step_6.b.hint()"
   ]
  },
  {
   "cell_type": "code",
   "execution_count": 21,
   "id": "a7020d04",
   "metadata": {
    "execution": {
     "iopub.execute_input": "2022-01-28T07:53:06.230852Z",
     "iopub.status.busy": "2022-01-28T07:53:06.229710Z",
     "iopub.status.idle": "2022-01-28T07:53:06.235133Z",
     "shell.execute_reply": "2022-01-28T07:53:06.234652Z",
     "shell.execute_reply.started": "2022-01-28T07:46:18.896867Z"
    },
    "papermill": {
     "duration": 0.064633,
     "end_time": "2022-01-28T07:53:06.235253",
     "exception": false,
     "start_time": "2022-01-28T07:53:06.170620",
     "status": "completed"
    },
    "tags": []
   },
   "outputs": [
    {
     "data": {
      "application/javascript": [
       "parent.postMessage({\"jupyterEvent\": \"custom.exercise_interaction\", \"data\": {\"interactionType\": 3, \"questionType\": 4, \"questionId\": \"6.2_ThinkColorReg\", \"learnToolsVersion\": \"0.3.4\", \"valueTowardsCompletion\": 0.0, \"failureMessage\": \"\", \"exceptionClass\": \"\", \"trace\": \"\", \"outcomeType\": 4}}, \"*\")"
      ],
      "text/plain": [
       "<IPython.core.display.Javascript object>"
      ]
     },
     "metadata": {},
     "output_type": "display_data"
    },
    {
     "data": {
      "text/markdown": [
       "<span style=\"color:#33cc99\">Solution:</span> We'll begin with the regression line for chocolate candies. Since this line has a slightly positive slope, we can say that more expensive chocolate candies tend to be more popular (than relatively cheaper chocolate candies).  Likewise, since the regression line for candies without chocolate has a negative slope, we can say that if candies don't contain chocolate, they tend to be more popular when they are cheaper.  One important note, however, is that the dataset is quite small -- so we shouldn't invest too much trust in these patterns!  To inspire more confidence in the results, we should add more candies to the dataset."
      ],
      "text/plain": [
       "Solution: We'll begin with the regression line for chocolate candies. Since this line has a slightly positive slope, we can say that more expensive chocolate candies tend to be more popular (than relatively cheaper chocolate candies).  Likewise, since the regression line for candies without chocolate has a negative slope, we can say that if candies don't contain chocolate, they tend to be more popular when they are cheaper.  One important note, however, is that the dataset is quite small -- so we shouldn't invest too much trust in these patterns!  To inspire more confidence in the results, we should add more candies to the dataset."
      ]
     },
     "metadata": {},
     "output_type": "display_data"
    }
   ],
   "source": [
    "# Check your answer (Run this code cell to receive credit!)\n",
    "step_6.b.solution()"
   ]
  },
  {
   "cell_type": "markdown",
   "id": "e20d3435",
   "metadata": {
    "papermill": {
     "duration": 0.036004,
     "end_time": "2022-01-28T07:53:06.307103",
     "exception": false,
     "start_time": "2022-01-28T07:53:06.271099",
     "status": "completed"
    },
    "tags": []
   },
   "source": [
    "## Step 7: Everybody loves chocolate.\n",
    "\n",
    "#### Part A\n",
    "\n",
    "Create a categorical scatter plot to highlight the relationship between `'chocolate'` and `'winpercent'`.  Put `'chocolate'` on the (horizontal) x-axis, and `'winpercent'` on the (vertical) y-axis."
   ]
  },
  {
   "cell_type": "code",
   "execution_count": 22,
   "id": "232c393c",
   "metadata": {
    "execution": {
     "iopub.execute_input": "2022-01-28T07:53:06.388044Z",
     "iopub.status.busy": "2022-01-28T07:53:06.387299Z",
     "iopub.status.idle": "2022-01-28T07:53:06.564604Z",
     "shell.execute_reply": "2022-01-28T07:53:06.565609Z",
     "shell.execute_reply.started": "2022-01-28T07:52:19.865354Z"
    },
    "papermill": {
     "duration": 0.223289,
     "end_time": "2022-01-28T07:53:06.565831",
     "exception": false,
     "start_time": "2022-01-28T07:53:06.342542",
     "status": "completed"
    },
    "tags": []
   },
   "outputs": [
    {
     "data": {
      "application/javascript": [
       "parent.postMessage({\"jupyterEvent\": \"custom.exercise_interaction\", \"data\": {\"outcomeType\": 1, \"valueTowardsCompletion\": 0.3333333333333333, \"interactionType\": 1, \"questionType\": 2, \"questionId\": \"7.1_PlotSwarm\", \"learnToolsVersion\": \"0.3.4\", \"failureMessage\": \"\", \"exceptionClass\": \"\", \"trace\": \"\"}}, \"*\")"
      ],
      "text/plain": [
       "<IPython.core.display.Javascript object>"
      ]
     },
     "metadata": {},
     "output_type": "display_data"
    },
    {
     "data": {
      "text/markdown": [
       "<span style=\"color:#33cc33\">Correct</span>"
      ],
      "text/plain": [
       "Correct"
      ]
     },
     "metadata": {},
     "output_type": "display_data"
    },
    {
     "data": {
      "image/png": "[encoded data removed]",
      "text/plain": [
       "<Figure size 432x288 with 1 Axes>"
      ]
     },
     "metadata": {
      "needs_background": "light"
     },
     "output_type": "display_data"
    }
   ],
   "source": [
    "# Scatter plot showing the relationship between 'chocolate' and 'winpercent'\n",
    "sns.swarmplot(x=candy_data['chocolate'],y=candy_data['winpercent'])\n",
    "\n",
    "# Check your answer\n",
    "step_7.a.check()"
   ]
  },
  {
   "cell_type": "code",
   "execution_count": 23,
   "id": "1c8d0edf",
   "metadata": {
    "execution": {
     "iopub.execute_input": "2022-01-28T07:53:06.645747Z",
     "iopub.status.busy": "2022-01-28T07:53:06.645076Z",
     "iopub.status.idle": "2022-01-28T07:53:06.647743Z",
     "shell.execute_reply": "2022-01-28T07:53:06.647283Z",
     "shell.execute_reply.started": "2022-01-28T07:52:29.214782Z"
    },
    "papermill": {
     "duration": 0.043242,
     "end_time": "2022-01-28T07:53:06.647852",
     "exception": false,
     "start_time": "2022-01-28T07:53:06.604610",
     "status": "completed"
    },
    "tags": []
   },
   "outputs": [],
   "source": [
    "# Lines below will give you a hint or solution code\n",
    "#step_7.a.hint()\n",
    "#step_7.a.solution_plot()"
   ]
  },
  {
   "cell_type": "markdown",
   "id": "0cc610ee",
   "metadata": {
    "papermill": {
     "duration": 0.036759,
     "end_time": "2022-01-28T07:53:06.721351",
     "exception": false,
     "start_time": "2022-01-28T07:53:06.684592",
     "status": "completed"
    },
    "tags": []
   },
   "source": [
    "#### Part B\n",
    "\n",
    "You decide to dedicate a section of your report to the fact that chocolate candies tend to be more popular than candies without chocolate.  Which plot is more appropriate to tell this story: the plot from **Step 6**, or the plot from **Step 7**?"
   ]
  },
  {
   "cell_type": "code",
   "execution_count": 24,
   "id": "54f483d9",
   "metadata": {
    "execution": {
     "iopub.execute_input": "2022-01-28T07:53:06.799597Z",
     "iopub.status.busy": "2022-01-28T07:53:06.797873Z",
     "iopub.status.idle": "2022-01-28T07:53:06.800174Z",
     "shell.execute_reply": "2022-01-28T07:53:06.800592Z",
     "shell.execute_reply.started": "2022-01-28T07:52:29.710546Z"
    },
    "papermill": {
     "duration": 0.042787,
     "end_time": "2022-01-28T07:53:06.800722",
     "exception": false,
     "start_time": "2022-01-28T07:53:06.757935",
     "status": "completed"
    },
    "tags": []
   },
   "outputs": [],
   "source": [
    "#step_7.b.hint()"
   ]
  },
  {
   "cell_type": "code",
   "execution_count": 25,
   "id": "14399522",
   "metadata": {
    "execution": {
     "iopub.execute_input": "2022-01-28T07:53:06.881251Z",
     "iopub.status.busy": "2022-01-28T07:53:06.879306Z",
     "iopub.status.idle": "2022-01-28T07:53:06.885047Z",
     "shell.execute_reply": "2022-01-28T07:53:06.884589Z",
     "shell.execute_reply.started": "2022-01-28T07:52:30.076148Z"
    },
    "papermill": {
     "duration": 0.047214,
     "end_time": "2022-01-28T07:53:06.885147",
     "exception": false,
     "start_time": "2022-01-28T07:53:06.837933",
     "status": "completed"
    },
    "tags": []
   },
   "outputs": [
    {
     "data": {
      "application/javascript": [
       "parent.postMessage({\"jupyterEvent\": \"custom.exercise_interaction\", \"data\": {\"interactionType\": 3, \"questionType\": 4, \"questionId\": \"7.2_ThinkSwarm\", \"learnToolsVersion\": \"0.3.4\", \"valueTowardsCompletion\": 0.0, \"failureMessage\": \"\", \"exceptionClass\": \"\", \"trace\": \"\", \"outcomeType\": 4}}, \"*\")"
      ],
      "text/plain": [
       "<IPython.core.display.Javascript object>"
      ]
     },
     "metadata": {},
     "output_type": "display_data"
    },
    {
     "data": {
      "text/markdown": [
       "<span style=\"color:#33cc99\">Solution:</span> In this case, the categorical scatter plot from **Step 7** is the more appropriate plot. While both plots tell the desired story, the plot from **Step 6** conveys far more information that could distract from the main point."
      ],
      "text/plain": [
       "Solution: In this case, the categorical scatter plot from **Step 7** is the more appropriate plot. While both plots tell the desired story, the plot from **Step 6** conveys far more information that could distract from the main point."
      ]
     },
     "metadata": {},
     "output_type": "display_data"
    }
   ],
   "source": [
    "# Check your answer (Run this code cell to receive credit!)\n",
    "step_7.b.solution()"
   ]
  },
  {
   "cell_type": "markdown",
   "id": "14d695dc",
   "metadata": {
    "papermill": {
     "duration": 0.037828,
     "end_time": "2022-01-28T07:53:06.960674",
     "exception": false,
     "start_time": "2022-01-28T07:53:06.922846",
     "status": "completed"
    },
    "tags": []
   },
   "source": [
    "## Keep going\n",
    "\n",
    "Explore **[histograms and density plots](https://www.kaggle.com/alexisbcook/distributions)**."
   ]
  },
  {
   "cell_type": "markdown",
   "id": "f6db54f3",
   "metadata": {
    "papermill": {
     "duration": 0.037453,
     "end_time": "2022-01-28T07:53:07.035647",
     "exception": false,
     "start_time": "2022-01-28T07:53:06.998194",
     "status": "completed"
    },
    "tags": []
   },
   "source": [
    "---\n",
    "\n",
    "\n",
    "\n",
    "\n",
    "*Have questions or comments? Visit the [course discussion forum](https://www.kaggle.com/learn/data-visualization/discussion) to chat with other learners.*"
   ]
  }
 ],
 "metadata": {
  "kernelspec": {
   "display_name": "Python 3",
   "language": "python",
   "name": "python3"
  },
  "language_info": {
   "codemirror_mode": {
    "name": "ipython",
    "version": 3
   },
   "file_extension": ".py",
   "mimetype": "text/x-python",
   "name": "python",
   "nbconvert_exporter": "python",
   "pygments_lexer": "ipython3",
   "version": "3.7.12"
  },
  "papermill": {
   "default_parameters": {},
   "duration": 14.722681,
   "end_time": "2022-01-28T07:53:07.582040",
   "environment_variables": {},
   "exception": null,
   "input_path": "__notebook__.ipynb",
   "output_path": "__notebook__.ipynb",
   "parameters": {},
   "start_time": "2022-01-28T07:52:52.859359",
   "version": "2.3.3"
  }
 },
 "nbformat": 4,
 "nbformat_minor": 5
}
